{
 "metadata": {
  "language_info": {
   "codemirror_mode": {
    "name": "ipython",
    "version": 3
   },
   "file_extension": ".py",
   "mimetype": "text/x-python",
   "name": "python",
   "nbconvert_exporter": "python",
   "pygments_lexer": "ipython3",
   "version": "3.8.5-final"
  },
  "orig_nbformat": 2,
  "kernelspec": {
   "name": "Python 3.8.5 64-bit",
   "display_name": "Python 3.8.5 64-bit",
   "metadata": {
    "interpreter": {
     "hash": "31f2aee4e71d21fbe5cf8b01ff0e069b9275f58929596ceb00d14d90e3e16cd6"
    }
   }
  }
 },
 "nbformat": 4,
 "nbformat_minor": 2,
 "cells": [
  {
   "cell_type": "code",
   "execution_count": 8,
   "metadata": {},
   "outputs": [],
   "source": [
    "#回帰分析の関数\n",
    "import matplotlib.pyplot as plt\n",
    "def kaiki_bunseki(x, y):\n",
    "    Y = np.c_[y]\n",
    "    X = np.c_[x, np.ones(N)]\n",
    "\n",
    "    tmp = np.dot(X.T, X)\n",
    "    r1 = np.linalg.inv(tmp)\n",
    "    r2 = np.dot(X.T, Y)\n",
    "    A = np.dot(r1, r2)\n",
    "    a = A[0]\n",
    "    b = A[1]\n",
    "    print(a, b)\n",
    "\n",
    "    return a, b\n",
    "    \n"
   ]
  },
  {
   "cell_type": "code",
   "execution_count": null,
   "metadata": {},
   "outputs": [],
   "source": [
    "x1=[17.5, 17.0, 18.5, 16.0, 19.0, 19.5, 16.0, 18.0, 19.0, 19.5]\n",
    "x2=[30, 25, 20, 30, 45, 35, 25, 35, 35, 40]\n",
    "y=[45, 38, 41, 34, 59, 47, 35, 43, 54, 52]"
   ]
  }
 ]
}