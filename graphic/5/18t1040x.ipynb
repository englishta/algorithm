{
 "metadata": {
  "language_info": {
   "codemirror_mode": {
    "name": "ipython",
    "version": 3
   },
   "file_extension": ".py",
   "mimetype": "text/x-python",
   "name": "python",
   "nbconvert_exporter": "python",
   "pygments_lexer": "ipython3",
   "version": "3.8.5-final"
  },
  "orig_nbformat": 2,
  "kernelspec": {
   "name": "Python 3.8.5 64-bit",
   "display_name": "Python 3.8.5 64-bit",
   "metadata": {
    "interpreter": {
     "hash": "31f2aee4e71d21fbe5cf8b01ff0e069b9275f58929596ceb00d14d90e3e16cd6"
    }
   }
  }
 },
 "nbformat": 4,
 "nbformat_minor": 2,
 "cells": [
  {
   "cell_type": "code",
   "execution_count": 23,
   "metadata": {},
   "outputs": [
    {
     "output_type": "stream",
     "name": "stdout",
     "text": [
      "[5.21875] [-49.1375]\n"
     ]
    },
    {
     "output_type": "execute_result",
     "data": {
      "text/plain": [
       "(array([5.21875]), array([-49.1375]))"
      ]
     },
     "metadata": {},
     "execution_count": 23
    }
   ],
   "source": [
    "#回帰分析の関数\n",
    "import matplotlib.pyplot as plt\n",
    "import numpy as np\n",
    "def kaiki_bunseki(x, y):\n",
    "    N = np.size(x)\n",
    "    Y = np.c_[y]\n",
    "    X = np.c_[x, np.ones(N)] #np.ones(N)は、長さNの要素１の行列を作る\n",
    "\n",
    "    tmp = np.dot(X.T, X)\n",
    "    r1 = np.linalg.inv(tmp)\n",
    "    r2 = np.dot(X.T, Y)\n",
    "    A = np.dot(r1, r2)\n",
    "    a = A[0]\n",
    "    b = A[1]\n",
    "    print(a, b)\n",
    "\n",
    "    return a, b\n",
    "\n",
    "x1=[17.5, 17.0, 18.5, 16.0, 19.0, 19.5, 16.0, 18.0, 19.0, 19.5]\n",
    "x2=[30, 25, 20, 30, 45, 35, 25, 35, 35, 40]\n",
    "y=[45, 38, 41, 34, 59, 47, 35, 43, 54, 52]\n",
    "kaiki_bunseki(x1, y)\n"
   ]
  },
  {
   "cell_type": "code",
   "execution_count": 26,
   "metadata": {},
   "outputs": [
    {
     "output_type": "execute_result",
     "data": {
      "text/plain": [
       "(array([5.21875]), array([-49.1375]), 0.8386307442358252, 0.7033015251775646)"
      ]
     },
     "metadata": {},
     "execution_count": 26
    }
   ],
   "source": [
    "def kaiki_bunseki(x, y):\n",
    "\n",
    "    N = np.size(x) # 標本数\n",
    "    Y = np.c_[y]\n",
    "    X = np.c_[x, np.ones(N)]\n",
    "\n",
    "    tmp = np.dot(X.T, X) # XTX\n",
    "    r1 = np.linalg.inv(tmp) # (XTX)^-1 逆行列\n",
    "    r2 = np.dot(X.T, Y) # XTY\n",
    "    A = np.dot(r1, r2) # 係数ベクトル\n",
    "\n",
    "    a = A[0] # 傾きa\n",
    "    b = A[1] # 切片b\n",
    "\n",
    "    # [追加機能]回帰直線の妥当性を評価する\n",
    "    Y_hat = a*x+b # 予測値\n",
    "    C = np.corrcoef(Y_hat, y)[0,1] # 相関係数\n",
    "    # 決定係数\n",
    "    R2 = np.sum( (Y_hat-np.mean(y))**2 ) / np.sum( (y-np.mean(y))**2 )\n",
    "\n",
    "    return a, b, C, R2\n",
    "\n",
    "    x1=[17.5, 17.0, 18.5, 16.0, 19.0, 19.5, 16.0, 18.0, 19.0, 19.5]\n",
    "    x2=[30, 25, 20, 30, 45, 35, 25, 35, 35, 40]\n",
    "    y=[45, 38, 41, 34, 59, 47, 35, 43, 54, 52]\n",
    "    \n",
    "kaiki_bunseki(x1, y)"
   ]
  },
  {
   "cell_type": "code",
   "execution_count": null,
   "metadata": {},
   "outputs": [],
   "source": []
  }
 ]
}