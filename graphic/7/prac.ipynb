{
 "metadata": {
  "language_info": {
   "codemirror_mode": {
    "name": "ipython",
    "version": 3
   },
   "file_extension": ".py",
   "mimetype": "text/x-python",
   "name": "python",
   "nbconvert_exporter": "python",
   "pygments_lexer": "ipython3",
   "version": "3.8.5-final"
  },
  "orig_nbformat": 2,
  "kernelspec": {
   "name": "python3",
   "display_name": "Python 3"
  }
 },
 "nbformat": 4,
 "nbformat_minor": 2,
 "cells": [
  {
   "cell_type": "code",
   "execution_count": 2,
   "metadata": {},
   "outputs": [
    {
     "output_type": "stream",
     "name": "stdout",
     "text": [
      "[[ 34.1 -52.2]\n [-52.2 130.4]]\n"
     ]
    }
   ],
   "source": [
    "import numpy as np\n",
    "X = np.array([[34.1, -52.2], [-52.2, 130.4]])\n",
    "L, A = np.linalg.eig(X)\n",
    "print(X)"
   ]
  },
  {
   "cell_type": "code",
   "execution_count": 3,
   "metadata": {},
   "outputs": [
    {
     "output_type": "stream",
     "name": "stdout",
     "text": [
      "[[ 34.1 -52.2]\n [-52.2 130.4]]\n[ 11.23406869 153.26593131] [[-0.91597404  0.40123754]\n [-0.40123754 -0.91597404]]\n"
     ]
    }
   ],
   "source": [
    "import numpy as np\n",
    "import matplotlib.pyplot as plt\n",
    "\n",
    "X = np.array([[34.1, -52.2], [-52.2, 130.4]])\n",
    "L, A = np.linalg.eig(X)\n",
    "print(X)\n",
    "print(L, A)"
   ]
  },
  {
   "cell_type": "code",
   "execution_count": null,
   "metadata": {},
   "outputs": [],
   "source": []
  }
 ]
}