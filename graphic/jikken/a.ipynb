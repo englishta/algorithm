{
 "metadata": {
  "language_info": {
   "codemirror_mode": {
    "name": "ipython",
    "version": 3
   },
   "file_extension": ".py",
   "mimetype": "text/x-python",
   "name": "python",
   "nbconvert_exporter": "python",
   "pygments_lexer": "ipython3",
   "version": "3.8.5-final"
  },
  "orig_nbformat": 2,
  "kernelspec": {
   "name": "Python 3.8.5 64-bit",
   "display_name": "Python 3.8.5 64-bit",
   "metadata": {
    "interpreter": {
     "hash": "31f2aee4e71d21fbe5cf8b01ff0e069b9275f58929596ceb00d14d90e3e16cd6"
    }
   }
  }
 },
 "nbformat": 4,
 "nbformat_minor": 2,
 "cells": [
  {
   "cell_type": "code",
   "execution_count": null,
   "metadata": {},
   "outputs": [],
   "source": []
  },
  {
   "cell_type": "code",
   "execution_count": 18,
   "metadata": {},
   "outputs": [
    {
     "output_type": "error",
     "ename": "TypeError",
     "evalue": "'list' object is not callable",
     "traceback": [
      "\u001b[0;31m---------------------------------------------------------------------------\u001b[0m",
      "\u001b[0;31mTypeError\u001b[0m                                 Traceback (most recent call last)",
      "\u001b[0;32m<ipython-input-18-d0eb1b0250f9>\u001b[0m in \u001b[0;36m<module>\u001b[0;34m\u001b[0m\n\u001b[1;32m     20\u001b[0m \u001b[0;31m#csvファイルの読み込み\u001b[0m\u001b[0;34m\u001b[0m\u001b[0;34m\u001b[0m\u001b[0;34m\u001b[0m\u001b[0m\n\u001b[1;32m     21\u001b[0m \u001b[0mdf\u001b[0m \u001b[0;34m=\u001b[0m \u001b[0mpd\u001b[0m\u001b[0;34m.\u001b[0m\u001b[0mread_csv\u001b[0m\u001b[0;34m(\u001b[0m\u001b[0;34m'jikken1.csv'\u001b[0m\u001b[0;34m,\u001b[0m \u001b[0mencoding\u001b[0m \u001b[0;34m=\u001b[0m \u001b[0;34m\"SHIFT_JIS\"\u001b[0m\u001b[0;34m,\u001b[0m \u001b[0mheader\u001b[0m \u001b[0;34m=\u001b[0m \u001b[0;36m3\u001b[0m\u001b[0;34m)\u001b[0m\u001b[0;34m\u001b[0m\u001b[0;34m\u001b[0m\u001b[0m\n\u001b[0;32m---> 22\u001b[0;31m \u001b[0mx\u001b[0m \u001b[0;34m=\u001b[0m \u001b[0mlist\u001b[0m\u001b[0;34m(\u001b[0m\u001b[0mdf\u001b[0m\u001b[0;34m[\u001b[0m\u001b[0;34m'0.3'\u001b[0m\u001b[0;34m]\u001b[0m\u001b[0;34m)\u001b[0m\u001b[0;34m\u001b[0m\u001b[0;34m\u001b[0m\u001b[0m\n\u001b[0m\u001b[1;32m     23\u001b[0m \u001b[0mx1\u001b[0m \u001b[0;34m=\u001b[0m \u001b[0mlist\u001b[0m\u001b[0;34m(\u001b[0m\u001b[0mdf\u001b[0m\u001b[0;34m[\u001b[0m\u001b[0;34m'0.3(1)'\u001b[0m\u001b[0;34m]\u001b[0m\u001b[0;34m)\u001b[0m\u001b[0;34m\u001b[0m\u001b[0;34m\u001b[0m\u001b[0m\n\u001b[1;32m     24\u001b[0m \u001b[0mp\u001b[0m \u001b[0;34m=\u001b[0m \u001b[0mx\u001b[0m\u001b[0;34m+\u001b[0m\u001b[0mx1\u001b[0m\u001b[0;34m\u001b[0m\u001b[0;34m\u001b[0m\u001b[0m\n",
      "\u001b[0;31mTypeError\u001b[0m: 'list' object is not callable"
     ]
    }
   ],
   "source": [
    "import matplotlib.pyplot as plt\n",
    "import pandas as pd\n",
    "import numpy as np\n",
    "from math import pi, cos, sin\n",
    "\n",
    "#体積を計算する関数\n",
    "def solve_v(deg):\n",
    "    rad = pi*deg/180\n",
    "    v1 = pi*((0.148)**2)*0.066\n",
    "    v2 = (1-cos(rad) + (0.066/(4*0.148))*(1-cos(2*rad)))\n",
    "    v3 = (638*1e-6)/16.7\n",
    "    return v1*v2+v3\n",
    "\n",
    "#dv/d0を求める関数\n",
    "def dev(deg):\n",
    "    rad = pi*deg/180\n",
    "    ans = pi*(0.184**2)*(0.066/4)* ( (sin(rad)+(0.066/(2*0.148) )*sin(2*rad) ) )*(pi/180)\n",
    "    return ans\n",
    "\n",
    "#csvファイルの読み込み\n",
    "df = pd.read_csv('jikken1.csv', encoding = \"SHIFT_JIS\", header = 3)\n",
    "x = list(df['0.3'])\n",
    "x1 = list(df['0.3(1)'])\n",
    "p = x+x1\n",
    "\n",
    "y = []#dv/d0のリスト\n",
    "z = []#dp/d0のリスト\n",
    "vm3 = []#Vのリスト\n",
    "ans = []#dq/d0のリスト熱発生率\n",
    "\n",
    "x = list(range(-40, 60))#角度°0[-40, 71)\n",
    "\n",
    "for i in range(-40, 71):\n",
    "    vm3.append(solve_v(i))\n",
    "    y.append(dev(i))\n",
    "\n",
    "\n",
    "for i in range(len(p)-1):\n",
    "    z.append(p[i+1]-p[i])\n",
    "\n",
    "for i in range(100):\n",
    "    ans.append((vm3[i]*z[i]+1.3*p[i]*y[i])/0.3)\n",
    "\n",
    "plt.plot(x, ans, '.-')\n",
    "plt.xlabel( 'degree' )\n",
    "plt.ylabel( 'dq/dθ' )\n",
    "plt.title(\"Heat generation rate graph\", size=10)\n",
    "plt.show()"
   ]
  },
  {
   "cell_type": "code",
   "execution_count": null,
   "metadata": {},
   "outputs": [],
   "source": []
  }
 ]
}