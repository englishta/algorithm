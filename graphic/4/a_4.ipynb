{
 "metadata": {
  "language_info": {
   "codemirror_mode": {
    "name": "ipython",
    "version": 3
   },
   "file_extension": ".py",
   "mimetype": "text/x-python",
   "name": "python",
   "nbconvert_exporter": "python",
   "pygments_lexer": "ipython3",
   "version": "3.8.5-final"
  },
  "orig_nbformat": 2,
  "kernelspec": {
   "name": "Python 3.8.5 64-bit",
   "display_name": "Python 3.8.5 64-bit",
   "metadata": {
    "interpreter": {
     "hash": "31f2aee4e71d21fbe5cf8b01ff0e069b9275f58929596ceb00d14d90e3e16cd6"
    }
   }
  }
 },
 "nbformat": 4,
 "nbformat_minor": 2,
 "cells": [
  {
   "cell_type": "code",
   "execution_count": 2,
   "metadata": {},
   "outputs": [
    {
     "output_type": "execute_result",
     "data": {
      "text/plain": [
       "[42.85, 2.595000000000002, 6, 2.2048291716821495]"
      ]
     },
     "metadata": {},
     "execution_count": 2
    }
   ],
   "source": [
    "x = [44.9, 43.7, 41.2, 41.8, 41.3, 44.2] \n",
    "import numpy as np\n",
    "x_bar = np.mean(x)\n",
    "s2 = np.var(x, ddof=1)#不偏分散\n",
    "N = np.size(x)\n",
    "mu = 41.4\n",
    "t = (x_bar-mu)/np.sqrt(s2/N)\n",
    "[x_bar, s2, N, t]"
   ]
  },
  {
   "cell_type": "code",
   "execution_count": 21,
   "metadata": {},
   "outputs": [
    {
     "output_type": "stream",
     "name": "stdout",
     "text": [
      "Right= 2.015048372669157\np_value= 0.12634632705259874 t= 1.292486066158501\nkikyaku\n"
     ]
    }
   ],
   "source": [
    "#信頼区間を計算し仮説を判定する関数\n",
    "#H0:交代後も母平均に変化なし（帰無仮説）を立てる\n",
    "#interval_t関数の戻り値：True=帰無仮説が妥当だ、False=帰無仮説を棄却\n",
    "def interval_t(alpha, x, mu):\n",
    "    import numpy as np\n",
    "    from scipy.stats import t\n",
    "    x_bar = np.mean(x)      #標本平均\n",
    "    s2 = np.var(x, ddof=1)  #標本不偏分散\n",
    "    N = np.size(x)          #標本サイズ\n",
    "    T = (x_bar-mu)/np.sqrt(s2/N)\n",
    "    Right = t.ppf(1-alpha, df=N-1)\n",
    "    p_value = 1-t.cdf(T, df=N-1)\n",
    "    print('Right=', Right)\n",
    "    print('p_value=', p_value, 't=', T)\n",
    "    if Right < T: return False\n",
    "    else: return True\n",
    "\n",
    "x = [44.9, 43.7, 41.2, 41.8, 41.3, 44.2]\n",
    "if interval_t(0.05, x, 42.0): print(\"kikyaku\")\n",
    "else: print('H0 is OK')"
   ]
  },
  {
   "cell_type": "code",
   "execution_count": null,
   "metadata": {},
   "outputs": [],
   "source": [
    "#判定関数\n",
    "#H0:交代後もばらつき具合に変化なし（帰無仮説）を立てる\n",
    "#Chi_2関数の戻り値：True=帰無仮説が妥当だ、False=帰無仮説を棄却\n",
    "def Chi_2(alpha, x, bunsan):\n",
    "    import numpy as np\n",
    "    from scipy.stats import chi2\n",
    "    s2 = np.var(x, ddof=1)  #標本不偏分散\n",
    "    N = np.size(x)          #標本サイズ\n",
    "    Chi2 = (N-1)*s2/bunsan**2\n",
    "    Left=chi2.ppf(alpha, df=N-1)\n",
    "    p_value=chi2.cdf(Chi2, df=N-1)\n",
    "    print('Left', Left)\n",
    "    print('p_value=', p_value)\n",
    "    if p_value<0.5: print('H0 is wrong=kikyaku')\n",
    "    else: print('H0 is OK=saitaku')\n",
    "\n",
    "x = [35.2, 34.5, 34.9, 35.2, 34.8, 35.1, 34.9, 35.2, 34.9, 34.8]\n",
    "Chi_2(0.05, x, 0.4)"
   ]
  }
 ]
}