{
 "metadata": {
  "language_info": {
   "codemirror_mode": {
    "name": "ipython",
    "version": 3
   },
   "file_extension": ".py",
   "mimetype": "text/x-python",
   "name": "python",
   "nbconvert_exporter": "python",
   "pygments_lexer": "ipython3",
   "version": "3.8.5-final"
  },
  "orig_nbformat": 2,
  "kernelspec": {
   "name": "python3",
   "display_name": "Python 3.8.5 64-bit",
   "metadata": {
    "interpreter": {
     "hash": "31f2aee4e71d21fbe5cf8b01ff0e069b9275f58929596ceb00d14d90e3e16cd6"
    }
   }
  }
 },
 "nbformat": 4,
 "nbformat_minor": 2,
 "cells": [
  {
   "cell_type": "code",
   "execution_count": 3,
   "metadata": {},
   "outputs": [
    {
     "output_type": "execute_result",
     "data": {
      "text/plain": [
       "   順位   コード     市場                   名称    取引値 取引値.1       前日比 前日比.1  \\\n",
       "0   1  1689  東証ETF  WisdomTree 天然ガス上場投信  15:00     2  +100.00%    +1   \n",
       "1   2  6031   マザーズ             サイジニア(株)  15:00  1374   +27.93%  +300   \n",
       "2   3  6063  東証JQS  日本エマージェンシーアシスタンス(株)  15:00  1394   +27.42%  +300   \n",
       "3   4  6177   マザーズ           ＡｐｐＢａｎｋ(株)  15:00   235   +27.03%   +50   \n",
       "4   5  7359   マザーズ              (株)東京通信  15:00  2043   +24.35%  +400   \n",
       "5   6  4180   マザーズ      Ａｐｐｉｅｒ　Ｇｒｏｕｐ(株)  15:00  1900   +18.01%  +290   \n",
       "6   7  3223  東証JQS           (株)エスエルディー  15:00   698   +16.72%  +100   \n",
       "7   8  4055   マザーズ           ティアンドエス(株)  15:00  5070   +16.15%  +705   \n",
       "8   9  4165   マザーズ              (株)プレイド  15:00  4200   +15.38%  +560   \n",
       "9  10  6743   東証2部              大同信号(株)  14:57   690   +14.24%   +86   \n",
       "\n",
       "        出来高  掲示板  \n",
       "0   8078100  掲示板  \n",
       "1      9100  掲示板  \n",
       "2     20500  掲示板  \n",
       "3   1323000  掲示板  \n",
       "4    847000  掲示板  \n",
       "5  16334500  掲示板  \n",
       "6     30700  掲示板  \n",
       "7    283300  掲示板  \n",
       "8   1590100  掲示板  \n",
       "9      7700  掲示板  "
      ],
      "text/html": "<div>\n<style scoped>\n    .dataframe tbody tr th:only-of-type {\n        vertical-align: middle;\n    }\n\n    .dataframe tbody tr th {\n        vertical-align: top;\n    }\n\n    .dataframe thead th {\n        text-align: right;\n    }\n</style>\n<table border=\"1\" class=\"dataframe\">\n  <thead>\n    <tr style=\"text-align: right;\">\n      <th></th>\n      <th>順位</th>\n      <th>コード</th>\n      <th>市場</th>\n      <th>名称</th>\n      <th>取引値</th>\n      <th>取引値.1</th>\n      <th>前日比</th>\n      <th>前日比.1</th>\n      <th>出来高</th>\n      <th>掲示板</th>\n    </tr>\n  </thead>\n  <tbody>\n    <tr>\n      <th>0</th>\n      <td>1</td>\n      <td>1689</td>\n      <td>東証ETF</td>\n      <td>WisdomTree 天然ガス上場投信</td>\n      <td>15:00</td>\n      <td>2</td>\n      <td>+100.00%</td>\n      <td>+1</td>\n      <td>8078100</td>\n      <td>掲示板</td>\n    </tr>\n    <tr>\n      <th>1</th>\n      <td>2</td>\n      <td>6031</td>\n      <td>マザーズ</td>\n      <td>サイジニア(株)</td>\n      <td>15:00</td>\n      <td>1374</td>\n      <td>+27.93%</td>\n      <td>+300</td>\n      <td>9100</td>\n      <td>掲示板</td>\n    </tr>\n    <tr>\n      <th>2</th>\n      <td>3</td>\n      <td>6063</td>\n      <td>東証JQS</td>\n      <td>日本エマージェンシーアシスタンス(株)</td>\n      <td>15:00</td>\n      <td>1394</td>\n      <td>+27.42%</td>\n      <td>+300</td>\n      <td>20500</td>\n      <td>掲示板</td>\n    </tr>\n    <tr>\n      <th>3</th>\n      <td>4</td>\n      <td>6177</td>\n      <td>マザーズ</td>\n      <td>ＡｐｐＢａｎｋ(株)</td>\n      <td>15:00</td>\n      <td>235</td>\n      <td>+27.03%</td>\n      <td>+50</td>\n      <td>1323000</td>\n      <td>掲示板</td>\n    </tr>\n    <tr>\n      <th>4</th>\n      <td>5</td>\n      <td>7359</td>\n      <td>マザーズ</td>\n      <td>(株)東京通信</td>\n      <td>15:00</td>\n      <td>2043</td>\n      <td>+24.35%</td>\n      <td>+400</td>\n      <td>847000</td>\n      <td>掲示板</td>\n    </tr>\n    <tr>\n      <th>5</th>\n      <td>6</td>\n      <td>4180</td>\n      <td>マザーズ</td>\n      <td>Ａｐｐｉｅｒ　Ｇｒｏｕｐ(株)</td>\n      <td>15:00</td>\n      <td>1900</td>\n      <td>+18.01%</td>\n      <td>+290</td>\n      <td>16334500</td>\n      <td>掲示板</td>\n    </tr>\n    <tr>\n      <th>6</th>\n      <td>7</td>\n      <td>3223</td>\n      <td>東証JQS</td>\n      <td>(株)エスエルディー</td>\n      <td>15:00</td>\n      <td>698</td>\n      <td>+16.72%</td>\n      <td>+100</td>\n      <td>30700</td>\n      <td>掲示板</td>\n    </tr>\n    <tr>\n      <th>7</th>\n      <td>8</td>\n      <td>4055</td>\n      <td>マザーズ</td>\n      <td>ティアンドエス(株)</td>\n      <td>15:00</td>\n      <td>5070</td>\n      <td>+16.15%</td>\n      <td>+705</td>\n      <td>283300</td>\n      <td>掲示板</td>\n    </tr>\n    <tr>\n      <th>8</th>\n      <td>9</td>\n      <td>4165</td>\n      <td>マザーズ</td>\n      <td>(株)プレイド</td>\n      <td>15:00</td>\n      <td>4200</td>\n      <td>+15.38%</td>\n      <td>+560</td>\n      <td>1590100</td>\n      <td>掲示板</td>\n    </tr>\n    <tr>\n      <th>9</th>\n      <td>10</td>\n      <td>6743</td>\n      <td>東証2部</td>\n      <td>大同信号(株)</td>\n      <td>14:57</td>\n      <td>690</td>\n      <td>+14.24%</td>\n      <td>+86</td>\n      <td>7700</td>\n      <td>掲示板</td>\n    </tr>\n  </tbody>\n</table>\n</div>"
     },
     "metadata": {},
     "execution_count": 3
    }
   ],
   "source": [
    "import pandas as pd\n",
    "url = \"https://info.finance.yahoo.co.jp/ranking/?kd=1&tm=d&mk=1\"\n",
    "\n",
    "dfs = pd.read_html(url)\n",
    "df = dfs[0]\n",
    "df.head(10)"
   ]
  },
  {
   "cell_type": "code",
   "execution_count": 5,
   "metadata": {},
   "outputs": [
    {
     "output_type": "execute_result",
     "data": {
      "text/plain": [
       "Index(['順位', 'コード', '市場', '名称', '取引値', '取引値.1', '前日比', '前日比.1', '出来高', '掲示板'], dtype='object')"
      ]
     },
     "metadata": {},
     "execution_count": 5
    }
   ],
   "source": [
    "df.columns"
   ]
  },
  {
   "cell_type": "code",
   "execution_count": 6,
   "metadata": {},
   "outputs": [
    {
     "output_type": "execute_result",
     "data": {
      "text/plain": [
       "   順位   コード     市場                   名称     日付   取引値       前日比   増加値  \\\n",
       "0   1  1689  東証ETF  WisdomTree 天然ガス上場投信  15:00     2  +100.00%    +1   \n",
       "1   2  6031   マザーズ             サイジニア(株)  15:00  1374   +27.93%  +300   \n",
       "2   3  6063  東証JQS  日本エマージェンシーアシスタンス(株)  15:00  1394   +27.42%  +300   \n",
       "3   4  6177   マザーズ           ＡｐｐＢａｎｋ(株)  15:00   235   +27.03%   +50   \n",
       "4   5  7359   マザーズ              (株)東京通信  15:00  2043   +24.35%  +400   \n",
       "5   6  4180   マザーズ      Ａｐｐｉｅｒ　Ｇｒｏｕｐ(株)  15:00  1900   +18.01%  +290   \n",
       "6   7  3223  東証JQS           (株)エスエルディー  15:00   698   +16.72%  +100   \n",
       "7   8  4055   マザーズ           ティアンドエス(株)  15:00  5070   +16.15%  +705   \n",
       "8   9  4165   マザーズ              (株)プレイド  15:00  4200   +15.38%  +560   \n",
       "9  10  6743   東証2部              大同信号(株)  14:57   690   +14.24%   +86   \n",
       "\n",
       "        出来高  掲示板  \n",
       "0   8078100  掲示板  \n",
       "1      9100  掲示板  \n",
       "2     20500  掲示板  \n",
       "3   1323000  掲示板  \n",
       "4    847000  掲示板  \n",
       "5  16334500  掲示板  \n",
       "6     30700  掲示板  \n",
       "7    283300  掲示板  \n",
       "8   1590100  掲示板  \n",
       "9      7700  掲示板  "
      ],
      "text/html": "<div>\n<style scoped>\n    .dataframe tbody tr th:only-of-type {\n        vertical-align: middle;\n    }\n\n    .dataframe tbody tr th {\n        vertical-align: top;\n    }\n\n    .dataframe thead th {\n        text-align: right;\n    }\n</style>\n<table border=\"1\" class=\"dataframe\">\n  <thead>\n    <tr style=\"text-align: right;\">\n      <th></th>\n      <th>順位</th>\n      <th>コード</th>\n      <th>市場</th>\n      <th>名称</th>\n      <th>日付</th>\n      <th>取引値</th>\n      <th>前日比</th>\n      <th>増加値</th>\n      <th>出来高</th>\n      <th>掲示板</th>\n    </tr>\n  </thead>\n  <tbody>\n    <tr>\n      <th>0</th>\n      <td>1</td>\n      <td>1689</td>\n      <td>東証ETF</td>\n      <td>WisdomTree 天然ガス上場投信</td>\n      <td>15:00</td>\n      <td>2</td>\n      <td>+100.00%</td>\n      <td>+1</td>\n      <td>8078100</td>\n      <td>掲示板</td>\n    </tr>\n    <tr>\n      <th>1</th>\n      <td>2</td>\n      <td>6031</td>\n      <td>マザーズ</td>\n      <td>サイジニア(株)</td>\n      <td>15:00</td>\n      <td>1374</td>\n      <td>+27.93%</td>\n      <td>+300</td>\n      <td>9100</td>\n      <td>掲示板</td>\n    </tr>\n    <tr>\n      <th>2</th>\n      <td>3</td>\n      <td>6063</td>\n      <td>東証JQS</td>\n      <td>日本エマージェンシーアシスタンス(株)</td>\n      <td>15:00</td>\n      <td>1394</td>\n      <td>+27.42%</td>\n      <td>+300</td>\n      <td>20500</td>\n      <td>掲示板</td>\n    </tr>\n    <tr>\n      <th>3</th>\n      <td>4</td>\n      <td>6177</td>\n      <td>マザーズ</td>\n      <td>ＡｐｐＢａｎｋ(株)</td>\n      <td>15:00</td>\n      <td>235</td>\n      <td>+27.03%</td>\n      <td>+50</td>\n      <td>1323000</td>\n      <td>掲示板</td>\n    </tr>\n    <tr>\n      <th>4</th>\n      <td>5</td>\n      <td>7359</td>\n      <td>マザーズ</td>\n      <td>(株)東京通信</td>\n      <td>15:00</td>\n      <td>2043</td>\n      <td>+24.35%</td>\n      <td>+400</td>\n      <td>847000</td>\n      <td>掲示板</td>\n    </tr>\n    <tr>\n      <th>5</th>\n      <td>6</td>\n      <td>4180</td>\n      <td>マザーズ</td>\n      <td>Ａｐｐｉｅｒ　Ｇｒｏｕｐ(株)</td>\n      <td>15:00</td>\n      <td>1900</td>\n      <td>+18.01%</td>\n      <td>+290</td>\n      <td>16334500</td>\n      <td>掲示板</td>\n    </tr>\n    <tr>\n      <th>6</th>\n      <td>7</td>\n      <td>3223</td>\n      <td>東証JQS</td>\n      <td>(株)エスエルディー</td>\n      <td>15:00</td>\n      <td>698</td>\n      <td>+16.72%</td>\n      <td>+100</td>\n      <td>30700</td>\n      <td>掲示板</td>\n    </tr>\n    <tr>\n      <th>7</th>\n      <td>8</td>\n      <td>4055</td>\n      <td>マザーズ</td>\n      <td>ティアンドエス(株)</td>\n      <td>15:00</td>\n      <td>5070</td>\n      <td>+16.15%</td>\n      <td>+705</td>\n      <td>283300</td>\n      <td>掲示板</td>\n    </tr>\n    <tr>\n      <th>8</th>\n      <td>9</td>\n      <td>4165</td>\n      <td>マザーズ</td>\n      <td>(株)プレイド</td>\n      <td>15:00</td>\n      <td>4200</td>\n      <td>+15.38%</td>\n      <td>+560</td>\n      <td>1590100</td>\n      <td>掲示板</td>\n    </tr>\n    <tr>\n      <th>9</th>\n      <td>10</td>\n      <td>6743</td>\n      <td>東証2部</td>\n      <td>大同信号(株)</td>\n      <td>14:57</td>\n      <td>690</td>\n      <td>+14.24%</td>\n      <td>+86</td>\n      <td>7700</td>\n      <td>掲示板</td>\n    </tr>\n  </tbody>\n</table>\n</div>"
     },
     "metadata": {},
     "execution_count": 6
    }
   ],
   "source": [
    "df.columns = ['順位', 'コード', '市場', '名称', '日付', '取引値', '前日比', '増加値', '出来高', '掲示板']\n",
    "df.head(10)"
   ]
  },
  {
   "cell_type": "code",
   "execution_count": null,
   "metadata": {},
   "outputs": [],
   "source": []
  }
 ]
}